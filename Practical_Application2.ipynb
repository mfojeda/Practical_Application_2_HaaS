{
 "cells": [
  {
   "cell_type": "markdown",
   "metadata": {},
   "source": [
    "# What drives the price of a car?\n",
    "\n",
    "![](images/kurt.jpeg)"
   ]
  },
  {
   "cell_type": "markdown",
   "metadata": {},
   "source": [
    "**OVERVIEW**\n",
    "\n",
    "In this application, you will explore a dataset from kaggle. The original dataset contained information on 3 million used cars. The provided dataset contains information on 426K cars to ensure speed of processing.  Your goal is to understand what factors make a car more or less expensive.  As a result of your analysis, you should provide clear recommendations to your client -- a used car dealership -- as to what consumers value in a used car."
   ]
  },
  {
   "cell_type": "markdown",
   "metadata": {},
   "source": [
    "### CRISP-DM Framework\n",
    "\n",
    "<center>\n",
    "    <img src = images/crisp.png width = 50%/>\n",
    "</center>\n",
    "\n",
    "\n",
    "To frame the task, throughout our practical applications we will refer back to a standard process in industry for data projects called CRISP-DM.  This process provides a framework for working through a data problem.  Your first step in this application will be to read through a brief overview of CRISP-DM [here](https://mo-pcco.s3.us-east-1.amazonaws.com/BH-PCMLAI/module_11/readings_starter.zip).  After reading the overview, answer the questions below."
   ]
  },
  {
   "cell_type": "markdown",
   "metadata": {},
   "source": [
    "### Business Understanding\n",
    "\n",
    "From a business perspective, we are tasked with identifying key drivers for used car prices.  In the CRISP-DM overview, we are asked to convert this business framing to a data problem definition.  Using a few sentences, reframe the task as a data task with the appropriate technical vocabulary. "
   ]
  },
  {
   "cell_type": "markdown",
   "metadata": {
    "tags": []
   },
   "source": [
    "1. Our Business Objective is to answer what aspects/featues justify the price of an automobile.\n",
    "\n",
    "2. Assessing the situation: The Cars Dataset is what is provided and I will have to take that at face value, the risk of this approach is that we are limiting our price assumptions to a handful of features from a dataset of 460k inputs.\n",
    "\n",
    "3. Data Mining Goal: Originally, my goal was to predict the price of a vehicle given their correlation to the following features: Mileage, Size, Drive Train, Color, Manufacturer and Condition. It was during the initial phase of analysis that I realized that I should verify the relationship of each feature to price. This way our dealer will know what features of the vehicle will drive a lower or higher price. \n",
    "\n",
    "4. Project Plan: \n",
    "    - First, I will need to pre-process the data so that I can determine which feature correlates to Price the best. \n",
    "    - Next, I will scale all numerical values and transform categorical features. \n",
    "    - Finally, by utilizing Regression and Grid Search I should be able to determine which feature will drive automobile prices. \n"
   ]
  },
  {
   "cell_type": "markdown",
   "metadata": {},
   "source": [
    "### Data Understanding\n",
    "\n",
    "After considering the business understanding, we want to get familiar with our data.  Write down some steps that you would take to get to know the dataset and identify any quality issues within.  Take time to get to know the dataset and explore what information it contains and how this could be used to inform your business understanding."
   ]
  },
  {
   "cell_type": "markdown",
   "metadata": {},
   "source": [
    "1. The Data seemed pretty straightforward, there is 17 columns with features that the common car buyer uses to place utility in a vehicle. Below is the information for the dataset and its columns "
   ]
  },
  {
   "cell_type": "raw",
   "metadata": {},
   "source": [
    "            <Vehicles Dataset>\n",
    "Data columns (total 18 columns):\n",
    " #   Column        Non-Null Count   Dtype  \n",
    "---  ------        --------------   -----  \n",
    " 0   id            426880 non-null  int64  \n",
    " 1   region        426880 non-null  object \n",
    " 2   price         426880 non-null  int64  \n",
    " 3   year          425675 non-null  float64\n",
    " 4   manufacturer  409234 non-null  object \n",
    " 5   model         421603 non-null  object \n",
    " 6   condition     252776 non-null  object \n",
    " 7   cylinders     249202 non-null  object \n",
    " 8   fuel          423867 non-null  object \n",
    " 9   odometer      422480 non-null  float64\n",
    " 10  title_status  418638 non-null  object \n",
    " 11  transmission  424324 non-null  object \n",
    " 12  VIN           265838 non-null  object \n",
    " 13  drive         296313 non-null  object \n",
    " 14  size          120519 non-null  object \n",
    " 15  type          334022 non-null  object \n",
    " 16  paint_color   296677 non-null  object \n",
    " 17  state         426880 non-null  object \n",
    "dtypes: float64(2), int64(2), object(14)\n",
    "memory usage: 58.6+ MB\n"
   ]
  },
  {
   "cell_type": "markdown",
   "metadata": {},
   "source": [
    "2. Quality is not exactly where I want it to perform a descent analysis. I'll have to convert categorical columns into number values and drop or replace missing values with averages of an entire column, depends on the strength of its correlation to price. "
   ]
  },
  {
   "cell_type": "markdown",
   "metadata": {},
   "source": [
    "### Data Preparation\n",
    "\n",
    "After our initial exploration and fine tuning of the business understanding, it is time to construct our final dataset prior to modeling.  Here, we want to make sure to handle any integrity issues and cleaning, the engineering of new features, any transformations that we believe should happen (scaling, logarithms, normalization, etc.), and general preparation for modeling with `sklearn`. "
   ]
  },
  {
   "cell_type": "markdown",
   "metadata": {},
   "source": [
    "Step 1: I decided to drop columns [id, model, region, VIN, state, title_Status] as these features were not relevant to the dataset or could cause too much variability, this left us with 3 numerical columns, including Price, and 8 Categorical Columns."
   ]
  },
  {
   "cell_type": "markdown",
   "metadata": {},
   "source": [
    "Step 2: I needed to deal with null values but did not want to filter more than required. I then checked the proportion of null values, and viewed other unique categorical features, please see below:"
   ]
  },
  {
   "cell_type": "raw",
   "metadata": {},
   "source": [
    "Proportion of non-null values in each column:\n",
    "price           100.000000\n",
    "year             99.717719\n",
    "manufacturer     95.866286\n",
    "condition        59.214768\n",
    "cylinders        58.377530\n",
    "fuel             99.294181\n",
    "odometer         98.969265\n",
    "transmission     99.401237\n",
    "drive            69.413653\n",
    "size             28.232524\n",
    "type             78.247283\n",
    "paint_color      69.498922\n",
    "dtype: float64"
   ]
  },
  {
   "cell_type": "markdown",
   "metadata": {
    "tags": []
   },
   "source": [
    "Step 4:\n",
    "\n",
    "After multiple pre-processing steps I refined the dataset by doing the following:\n",
    "- Dropped: the size column\n",
    "- Grouped: vehicle 'types' into four categories; Car, SUV, Truck and other\n",
    "- Grouped: vahicle 'manufacturer' into continental categories\n",
    "- Filtered: removed Nulls from the 'odometer' Column, filtered where mileage is between 10,000 and 150,000\n",
    "- Filtered: only selected 'years' that were between 2000 and 2018\n",
    "- Filtered: where 'condition' did not equal 'New' or 'Salvage'\n",
    "- Replaced: less common variables with 'other' for the following columns; Condition, Fuel, Paint_color and Cylinders\n",
    "- Categorical Missing Data: chose to fill the null data with the Mode of each corresponding column, in this case for Condition, Cylinders, Drive, Type and Paint_Color\n",
    "- Filtered: I had to filter on prices that were <= to $35,000 as STD was way to variable"
   ]
  },
  {
   "cell_type": "markdown",
   "metadata": {},
   "source": [
    "Step 3: Below is the result of a refined dataset with less outliers and more consistently populated columns. Almost half of the dataset was removed."
   ]
  },
  {
   "cell_type": "raw",
   "metadata": {
    "tags": []
   },
   "source": [
    "        <Cleaned Vehicles Dataset>\n",
    "Index: 195972 entries, 27 to 426878\n",
    "Data columns (total 11 columns):\n",
    " #   Column                  Non-Null Count   Dtype  \n",
    "---  ------                  --------------   -----  \n",
    " 0   price                   195972 non-null  int64  \n",
    " 1   year                    195972 non-null  float64\n",
    " 2   condition               195972 non-null  object \n",
    " 3   cylinders               195972 non-null  object \n",
    " 4   fuel                    195972 non-null  object \n",
    " 5   odometer                195972 non-null  float64\n",
    " 6   transmission            195972 non-null  object \n",
    " 7   drive                   195972 non-null  object \n",
    " 8   paint_color             195972 non-null  object \n",
    " 9   manufacturer_continent  195972 non-null  object \n",
    " 10  vehicle_type_group      195972 non-null  object \n",
    "dtypes: float64(2), int64(1), object(8)\n",
    "memory usage: 17.9+ MB"
   ]
  },
  {
   "cell_type": "markdown",
   "metadata": {},
   "source": [
    "### Modeling\n",
    "\n",
    "With your (almost?) final dataset in hand, it is now time to build some models.  Here, you should build a number of different regression models with the price as the target.  In building your models, you should explore different parameters and be sure to cross-validate your findings."
   ]
  },
  {
   "cell_type": "markdown",
   "metadata": {},
   "source": [
    "Step 1: Price is the target which makes all other columns the features. I split the data in X = Price and Y = all other columns. \n",
    "\n",
    "Step 2 : I then split both X and y datasets into Test and Training data where the split is 80/20. \n",
    "\n",
    "Step 3: Defined the numerical and categorical features and then ran each corresponding column into a Standard Scaler or OneHotEncoder, this was placed into a preprocessor pipeline. \n",
    "\n",
    "Step 4: Next, I created a base pipeline which incorporated the preprocessor and set of polynomial degrees (1, 2, 3), with a target_regressor reand of (0.1, 1, 10, 100).\n",
    "- I did create three different pipelines as I used three different Regressions(Ridge, Lasso and SFS).\n",
    "\n",
    "Step 5: Each pipeline ran through GridSearch Cross Validation model, which performed a search over a specified parameter grid to find the best combo hyperparameter for a given estimate. I set the Cross Validation to 5 split fold per each Regression. "
   ]
  },
  {
   "cell_type": "markdown",
   "metadata": {},
   "source": [
    "### Evaluation\n",
    "\n",
    "With some modeling accomplished, we aim to reflect on what we identify as a high quality model and what we are able to learn from this.  We should review our business objective and explore how well we can provide meaningful insight on drivers of used car prices.  Your goal now is to distill your findings and determine whether the earlier phases need revisitation and adjustment or if you have information of value to bring back to your client."
   ]
  },
  {
   "cell_type": "markdown",
   "metadata": {},
   "source": [
    "Hours were spent going back-and-fourth to the data and filtering, dropping or even grouping just to get close to a 70% R-Squared. I am not too thrilled with the results, but below it shows that the Ridge Regression Model performed the best of the three. Features such as year, cylinders, odometer, drive and vehicle_type_group drove the price of a vehicle. The MSE is extremely high, which is driven by a significant variance in price and odometer values. Evalutions for the each model are below.\n",
    "- Additionally, a step-by-step with visuals for each model is attached within this folder. "
   ]
  },
  {
   "cell_type": "raw",
   "metadata": {},
   "source": [
    "Ridge Pipeline Results:\n",
    "Best Hyperparameters: {'poly__degree': 3, 'target_regressor__regressor__alpha': 100}\n",
    "R-squared on test set: 0.6894\n",
    "\n",
    "Permutation Importance for Base Pipeline:\n",
    "                  Feature  Importance\n",
    "0                    year    0.447112\n",
    "1               condition    0.010651\n",
    "2               cylinders    0.196037\n",
    "3                    fuel    0.038279\n",
    "4                odometer    0.190424\n",
    "5            transmission    0.026904\n",
    "6                   drive    0.112840\n",
    "7             paint_color    0.012018\n",
    "8  manufacturer_continent    0.056203\n",
    "9      vehicle_type_group    0.139685\n",
    "\n",
    "Mean Squared Error (MSE): 22395892.956532877"
   ]
  },
  {
   "cell_type": "raw",
   "metadata": {},
   "source": [
    "Lasso Pipeline Results:\n",
    "Best Hyperparameters: {'poly__degree': 1, 'target_regressor__regressor__alpha': 0.1}\n",
    "R-squared on test set: 0.3283\n",
    "Permutation Importance for Base Pipeline:\n",
    "                  Feature  Importance\n",
    "0                    year    0.209992\n",
    "1                    fuel    0.000000\n",
    "2                odometer    0.159740\n",
    "3            transmission    0.000000\n",
    "4                   drive    0.000000\n",
    "5  manufacturer_continent    0.000000\n",
    "6      vehicle_type_group    0.000000\n",
    "Mean Squared Error (MSE): 52149050.61211663"
   ]
  },
  {
   "cell_type": "raw",
   "metadata": {},
   "source": [
    "SFS Pipeline Results:\n",
    "Best Hyperparameters: {'poly__degree': 3, 'selector__n_features_to_select': 3, 'target_regressor__regressor__alpha': 0.1}\n",
    "R-squared on test set: 0.5447\n",
    "\n",
    "Permutation Importance for Base Pipeline:\n",
    "                  Feature  Importance\n",
    "0                    year    0.766612\n",
    "1                    fuel    0.083287\n",
    "2                odometer    0.000000\n",
    "3            transmission    0.000000\n",
    "4                   drive    0.196049\n",
    "5  manufacturer_continent    0.034449\n",
    "6      vehicle_type_group    0.020653\n",
    "\n",
    "Mean Squared Error (MSE): 5567167001.882173"
   ]
  },
  {
   "cell_type": "markdown",
   "metadata": {},
   "source": [
    "### Deployment\n",
    "\n",
    "Now that we've settled on our models and findings, it is time to deliver the information to the client.  You should organize your work as a basic report that details your primary findings.  Keep in mind that your audience is a group of used car dealers interested in fine tuning their inventory."
   ]
  },
  {
   "cell_type": "markdown",
   "metadata": {},
   "source": [
    "Findings\n",
    "1. Utlizing the current data with further refinement, I am able to provide drivers to the pricing of vehicle with a confidence level of 70%.\n",
    "2. This 70% consisted of various transformations to the dataset and grouping of 'Makes' and 'Models' by their regions of origin as to gain any insight into their relevance on Price. \n",
    "3. Additionally, within this research it should be noted that Year of the vechile, along with the Enginge Type and Mileage affect Price more than other categories available. "
   ]
  },
  {
   "cell_type": "markdown",
   "metadata": {},
   "source": [
    "Questions for the Dealer\n",
    "\n",
    "I strongly urge the client to determine which type of car dealer they want to be, options below. Based on their decision I strongly believe that with further refinement of the data that I can yield better results. \n",
    "- The Client should decided if they want to sell high-end or economy class used vehicles. (Example: BMW, Audi, Mercedes, or Toyota, Nissan, Honda)\n",
    "- A year range will heavily impact the relationship on Price, I encountered too many outliers, but within the data I found that the average Year of the Vehicles was 2011. Does the client want to carry 10 year old vehicles within their fleet?\n",
    "- Since price is the target, what is max-value of a vehicle that they want to sell? Within the dataset there was Kia and Ferarri, which are exteme lows and highs on price spectrum.  The client needs to know what they want to sell and who to sell to. \n",
    "- Is the client in the Electric car business or only strictly fuel?\n",
    "- Finally, I strongly believe that the client does not want to sell vehicles with more than 50K mileage, as the value would not be worth as much as a lower mileage car. "
   ]
  },
  {
   "cell_type": "code",
   "execution_count": null,
   "metadata": {},
   "outputs": [],
   "source": []
  }
 ],
 "metadata": {
  "kernelspec": {
   "display_name": "Python 3 (ipykernel)",
   "language": "python",
   "name": "python3"
  },
  "language_info": {
   "codemirror_mode": {
    "name": "ipython",
    "version": 3
   },
   "file_extension": ".py",
   "mimetype": "text/x-python",
   "name": "python",
   "nbconvert_exporter": "python",
   "pygments_lexer": "ipython3",
   "version": "3.11.5"
  },
  "widgets": {
   "application/vnd.jupyter.widget-state+json": {
    "state": {},
    "version_major": 2,
    "version_minor": 0
   }
  }
 },
 "nbformat": 4,
 "nbformat_minor": 4
}
